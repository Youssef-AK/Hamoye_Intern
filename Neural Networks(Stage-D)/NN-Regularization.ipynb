{
 "cells": [
  {
   "cell_type": "code",
   "execution_count": 2,
   "metadata": {},
   "outputs": [],
   "source": [
    "import numpy as np\n",
    "import pandas as pd\n",
    "import matplotlib.pyplot as plt\n",
    "import tensorflow as tf\n",
    "from tensorflow import keras"
   ]
  },
  {
   "cell_type": "code",
   "execution_count": 3,
   "metadata": {},
   "outputs": [],
   "source": [
    "mnist = keras.datasets.mnist\n",
    "\n",
    "(train_images, train_labels), (test_images, test_labels) = mnist.load_data()"
   ]
  },
  {
   "cell_type": "code",
   "execution_count": 4,
   "metadata": {},
   "outputs": [
    {
     "name": "stdout",
     "output_type": "stream",
     "text": [
      "Training data: (60000, 28, 28), (60000,)\n"
     ]
    }
   ],
   "source": [
    "print('Training data: {}, {}'.format(train_images.shape, train_labels.shape))"
   ]
  },
  {
   "cell_type": "code",
   "execution_count": 5,
   "metadata": {},
   "outputs": [
    {
     "name": "stdout",
     "output_type": "stream",
     "text": [
      "Test data: (10000, 28, 28), (10000,)\n"
     ]
    }
   ],
   "source": [
    "print('Test data: {}, {}'.format(test_images.shape, test_labels.shape))"
   ]
  },
  {
   "cell_type": "code",
   "execution_count": 6,
   "metadata": {},
   "outputs": [
    {
     "name": "stdout",
     "output_type": "stream",
     "text": [
      "There are 10 classes in dataset. They are: [0 1 2 3 4 5 6 7 8 9]\n"
     ]
    }
   ],
   "source": [
    "class_labels = np.unique(train_labels)\n",
    "\n",
    "print('There are {} classes in dataset. They are: {}'.format(len(class_labels), class_labels))"
   ]
  },
  {
   "cell_type": "code",
   "execution_count": 7,
   "metadata": {},
   "outputs": [
    {
     "data": {
      "image/png": "[encoded data removed]",
      "text/plain": [
       "<Figure size 576x360 with 3 Axes>"
      ]
     },
     "metadata": {
      "needs_background": "light"
     },
     "output_type": "display_data"
    }
   ],
   "source": [
    "plt.figure(figsize=(8, 5))\n",
    "\n",
    "plt.subplot(1, 3, 1)\n",
    "plt.imshow(train_images[0])\n",
    "plt.title('Label: {}'.format(train_labels[0]))\n",
    "\n",
    "plt.subplot(1, 3, 2)\n",
    "plt.imshow(train_images[2500])\n",
    "plt.title('Label: {}'.format(train_labels[2500]))\n",
    "\n",
    "plt.subplot(1, 3, 3)\n",
    "plt.imshow(train_images[12])\n",
    "\n",
    "plt.show()"
   ]
  },
  {
   "cell_type": "code",
   "execution_count": 8,
   "metadata": {},
   "outputs": [
    {
     "data": {
      "text/plain": [
       "array([[  0,   0,   0,   0,   0,   0,   0,   0,   0,   0,   0,   0,   0,\n",
       "          0,   0,   0,   0,   0,   0,   0,   0,   0,   0,   0,   0,   0,\n",
       "          0,   0],\n",
       "       [  0,   0,   0,   0,   0,   0,   0,   0,   0,   0,   0,   0,   0,\n",
       "          0,   0,   0,   0,   0,   0,   0,   0,   0,   0,   0,   0,   0,\n",
       "          0,   0],\n",
       "       [  0,   0,   0,   0,   0,   0,   0,   0,   0,   0,   0,   0,   0,\n",
       "          0,   0,   0,   0,   0,   0,   0,   0,   0,   0,   0,   0,   0,\n",
       "          0,   0],\n",
       "       [  0,   0,   0,   0,   0,   0,   0,   0,   0,   0,   0,   0,   0,\n",
       "          0,   0,   0,   0,   0,   0,   0,   0,   0,   0,   0,   0,   0,\n",
       "          0,   0],\n",
       "       [  0,   0,   0,   0,   0,   0,   0,   0,   0,   0,   0,   0,   0,\n",
       "          0,   0,   0,   0,   0,   0,   0,   0,   0,   0,   0,   0,   0,\n",
       "          0,   0],\n",
       "       [  0,   0,   0,   0,   0,   0,   0,   0,   0,   0,   0,   0,   3,\n",
       "         18,  18,  18, 126, 136, 175,  26, 166, 255, 247, 127,   0,   0,\n",
       "          0,   0],\n",
       "       [  0,   0,   0,   0,   0,   0,   0,   0,  30,  36,  94, 154, 170,\n",
       "        253, 253, 253, 253, 253, 225, 172, 253, 242, 195,  64,   0,   0,\n",
       "          0,   0],\n",
       "       [  0,   0,   0,   0,   0,   0,   0,  49, 238, 253, 253, 253, 253,\n",
       "        253, 253, 253, 253, 251,  93,  82,  82,  56,  39,   0,   0,   0,\n",
       "          0,   0],\n",
       "       [  0,   0,   0,   0,   0,   0,   0,  18, 219, 253, 253, 253, 253,\n",
       "        253, 198, 182, 247, 241,   0,   0,   0,   0,   0,   0,   0,   0,\n",
       "          0,   0],\n",
       "       [  0,   0,   0,   0,   0,   0,   0,   0,  80, 156, 107, 253, 253,\n",
       "        205,  11,   0,  43, 154,   0,   0,   0,   0,   0,   0,   0,   0,\n",
       "          0,   0],\n",
       "       [  0,   0,   0,   0,   0,   0,   0,   0,   0,  14,   1, 154, 253,\n",
       "         90,   0,   0,   0,   0,   0,   0,   0,   0,   0,   0,   0,   0,\n",
       "          0,   0],\n",
       "       [  0,   0,   0,   0,   0,   0,   0,   0,   0,   0,   0, 139, 253,\n",
       "        190,   2,   0,   0,   0,   0,   0,   0,   0,   0,   0,   0,   0,\n",
       "          0,   0],\n",
       "       [  0,   0,   0,   0,   0,   0,   0,   0,   0,   0,   0,  11, 190,\n",
       "        253,  70,   0,   0,   0,   0,   0,   0,   0,   0,   0,   0,   0,\n",
       "          0,   0],\n",
       "       [  0,   0,   0,   0,   0,   0,   0,   0,   0,   0,   0,   0,  35,\n",
       "        241, 225, 160, 108,   1,   0,   0,   0,   0,   0,   0,   0,   0,\n",
       "          0,   0],\n",
       "       [  0,   0,   0,   0,   0,   0,   0,   0,   0,   0,   0,   0,   0,\n",
       "         81, 240, 253, 253, 119,  25,   0,   0,   0,   0,   0,   0,   0,\n",
       "          0,   0],\n",
       "       [  0,   0,   0,   0,   0,   0,   0,   0,   0,   0,   0,   0,   0,\n",
       "          0,  45, 186, 253, 253, 150,  27,   0,   0,   0,   0,   0,   0,\n",
       "          0,   0],\n",
       "       [  0,   0,   0,   0,   0,   0,   0,   0,   0,   0,   0,   0,   0,\n",
       "          0,   0,  16,  93, 252, 253, 187,   0,   0,   0,   0,   0,   0,\n",
       "          0,   0],\n",
       "       [  0,   0,   0,   0,   0,   0,   0,   0,   0,   0,   0,   0,   0,\n",
       "          0,   0,   0,   0, 249, 253, 249,  64,   0,   0,   0,   0,   0,\n",
       "          0,   0],\n",
       "       [  0,   0,   0,   0,   0,   0,   0,   0,   0,   0,   0,   0,   0,\n",
       "          0,  46, 130, 183, 253, 253, 207,   2,   0,   0,   0,   0,   0,\n",
       "          0,   0],\n",
       "       [  0,   0,   0,   0,   0,   0,   0,   0,   0,   0,   0,   0,  39,\n",
       "        148, 229, 253, 253, 253, 250, 182,   0,   0,   0,   0,   0,   0,\n",
       "          0,   0],\n",
       "       [  0,   0,   0,   0,   0,   0,   0,   0,   0,   0,  24, 114, 221,\n",
       "        253, 253, 253, 253, 201,  78,   0,   0,   0,   0,   0,   0,   0,\n",
       "          0,   0],\n",
       "       [  0,   0,   0,   0,   0,   0,   0,   0,  23,  66, 213, 253, 253,\n",
       "        253, 253, 198,  81,   2,   0,   0,   0,   0,   0,   0,   0,   0,\n",
       "          0,   0],\n",
       "       [  0,   0,   0,   0,   0,   0,  18, 171, 219, 253, 253, 253, 253,\n",
       "        195,  80,   9,   0,   0,   0,   0,   0,   0,   0,   0,   0,   0,\n",
       "          0,   0],\n",
       "       [  0,   0,   0,   0,  55, 172, 226, 253, 253, 253, 253, 244, 133,\n",
       "         11,   0,   0,   0,   0,   0,   0,   0,   0,   0,   0,   0,   0,\n",
       "          0,   0],\n",
       "       [  0,   0,   0,   0, 136, 253, 253, 253, 212, 135, 132,  16,   0,\n",
       "          0,   0,   0,   0,   0,   0,   0,   0,   0,   0,   0,   0,   0,\n",
       "          0,   0],\n",
       "       [  0,   0,   0,   0,   0,   0,   0,   0,   0,   0,   0,   0,   0,\n",
       "          0,   0,   0,   0,   0,   0,   0,   0,   0,   0,   0,   0,   0,\n",
       "          0,   0],\n",
       "       [  0,   0,   0,   0,   0,   0,   0,   0,   0,   0,   0,   0,   0,\n",
       "          0,   0,   0,   0,   0,   0,   0,   0,   0,   0,   0,   0,   0,\n",
       "          0,   0],\n",
       "       [  0,   0,   0,   0,   0,   0,   0,   0,   0,   0,   0,   0,   0,\n",
       "          0,   0,   0,   0,   0,   0,   0,   0,   0,   0,   0,   0,   0,\n",
       "          0,   0]], dtype=uint8)"
      ]
     },
     "execution_count": 8,
     "metadata": {},
     "output_type": "execute_result"
    }
   ],
   "source": [
    "# Before scaling\n",
    "train_images[0]"
   ]
  },
  {
   "cell_type": "code",
   "execution_count": 9,
   "metadata": {},
   "outputs": [],
   "source": [
    "train_images = train_images/ 255.0\n",
    "test_images = test_images/ 255.0"
   ]
  },
  {
   "cell_type": "code",
   "execution_count": 10,
   "metadata": {},
   "outputs": [
    {
     "data": {
      "text/plain": [
       "array([[0.        , 0.        , 0.        , 0.        , 0.        ,\n",
       "        0.        , 0.        , 0.        , 0.        , 0.        ,\n",
       "        0.        , 0.        , 0.        , 0.        , 0.        ,\n",
       "        0.        , 0.        , 0.        , 0.        , 0.        ,\n",
       "        0.        , 0.        , 0.        , 0.        , 0.        ,\n",
       "        0.        , 0.        , 0.        ],\n",
       "       [0.        , 0.        , 0.        , 0.        , 0.        ,\n",
       "        0.        , 0.        , 0.        , 0.        , 0.        ,\n",
       "        0.        , 0.        , 0.        , 0.        , 0.        ,\n",
       "        0.        , 0.        , 0.        , 0.        , 0.        ,\n",
       "        0.        , 0.        , 0.        , 0.        , 0.        ,\n",
       "        0.        , 0.        , 0.        ],\n",
       "       [0.        , 0.        , 0.        , 0.        , 0.        ,\n",
       "        0.        , 0.        , 0.        , 0.        , 0.        ,\n",
       "        0.        , 0.        , 0.        , 0.        , 0.        ,\n",
       "        0.        , 0.        , 0.        , 0.        , 0.        ,\n",
       "        0.        , 0.        , 0.        , 0.        , 0.        ,\n",
       "        0.        , 0.        , 0.        ],\n",
       "       [0.        , 0.        , 0.        , 0.        , 0.        ,\n",
       "        0.        , 0.        , 0.        , 0.        , 0.        ,\n",
       "        0.        , 0.        , 0.        , 0.        , 0.        ,\n",
       "        0.        , 0.        , 0.        , 0.        , 0.        ,\n",
       "        0.        , 0.        , 0.        , 0.        , 0.        ,\n",
       "        0.        , 0.        , 0.        ],\n",
       "       [0.        , 0.        , 0.        , 0.        , 0.        ,\n",
       "        0.        , 0.        , 0.        , 0.        , 0.        ,\n",
       "        0.        , 0.        , 0.        , 0.        , 0.        ,\n",
       "        0.        , 0.        , 0.        , 0.        , 0.        ,\n",
       "        0.        , 0.        , 0.        , 0.        , 0.        ,\n",
       "        0.        , 0.        , 0.        ],\n",
       "       [0.        , 0.        , 0.        , 0.        , 0.        ,\n",
       "        0.        , 0.        , 0.        , 0.        , 0.        ,\n",
       "        0.        , 0.        , 0.01176471, 0.07058824, 0.07058824,\n",
       "        0.07058824, 0.49411765, 0.53333333, 0.68627451, 0.10196078,\n",
       "        0.65098039, 1.        , 0.96862745, 0.49803922, 0.        ,\n",
       "        0.        , 0.        , 0.        ],\n",
       "       [0.        , 0.        , 0.        , 0.        , 0.        ,\n",
       "        0.        , 0.        , 0.        , 0.11764706, 0.14117647,\n",
       "        0.36862745, 0.60392157, 0.66666667, 0.99215686, 0.99215686,\n",
       "        0.99215686, 0.99215686, 0.99215686, 0.88235294, 0.6745098 ,\n",
       "        0.99215686, 0.94901961, 0.76470588, 0.25098039, 0.        ,\n",
       "        0.        , 0.        , 0.        ],\n",
       "       [0.        , 0.        , 0.        , 0.        , 0.        ,\n",
       "        0.        , 0.        , 0.19215686, 0.93333333, 0.99215686,\n",
       "        0.99215686, 0.99215686, 0.99215686, 0.99215686, 0.99215686,\n",
       "        0.99215686, 0.99215686, 0.98431373, 0.36470588, 0.32156863,\n",
       "        0.32156863, 0.21960784, 0.15294118, 0.        , 0.        ,\n",
       "        0.        , 0.        , 0.        ],\n",
       "       [0.        , 0.        , 0.        , 0.        , 0.        ,\n",
       "        0.        , 0.        , 0.07058824, 0.85882353, 0.99215686,\n",
       "        0.99215686, 0.99215686, 0.99215686, 0.99215686, 0.77647059,\n",
       "        0.71372549, 0.96862745, 0.94509804, 0.        , 0.        ,\n",
       "        0.        , 0.        , 0.        , 0.        , 0.        ,\n",
       "        0.        , 0.        , 0.        ],\n",
       "       [0.        , 0.        , 0.        , 0.        , 0.        ,\n",
       "        0.        , 0.        , 0.        , 0.31372549, 0.61176471,\n",
       "        0.41960784, 0.99215686, 0.99215686, 0.80392157, 0.04313725,\n",
       "        0.        , 0.16862745, 0.60392157, 0.        , 0.        ,\n",
       "        0.        , 0.        , 0.        , 0.        , 0.        ,\n",
       "        0.        , 0.        , 0.        ],\n",
       "       [0.        , 0.        , 0.        , 0.        , 0.        ,\n",
       "        0.        , 0.        , 0.        , 0.        , 0.05490196,\n",
       "        0.00392157, 0.60392157, 0.99215686, 0.35294118, 0.        ,\n",
       "        0.        , 0.        , 0.        , 0.        , 0.        ,\n",
       "        0.        , 0.        , 0.        , 0.        , 0.        ,\n",
       "        0.        , 0.        , 0.        ],\n",
       "       [0.        , 0.        , 0.        , 0.        , 0.        ,\n",
       "        0.        , 0.        , 0.        , 0.        , 0.        ,\n",
       "        0.        , 0.54509804, 0.99215686, 0.74509804, 0.00784314,\n",
       "        0.        , 0.        , 0.        , 0.        , 0.        ,\n",
       "        0.        , 0.        , 0.        , 0.        , 0.        ,\n",
       "        0.        , 0.        , 0.        ],\n",
       "       [0.        , 0.        , 0.        , 0.        , 0.        ,\n",
       "        0.        , 0.        , 0.        , 0.        , 0.        ,\n",
       "        0.        , 0.04313725, 0.74509804, 0.99215686, 0.2745098 ,\n",
       "        0.        , 0.        , 0.        , 0.        , 0.        ,\n",
       "        0.        , 0.        , 0.        , 0.        , 0.        ,\n",
       "        0.        , 0.        , 0.        ],\n",
       "       [0.        , 0.        , 0.        , 0.        , 0.        ,\n",
       "        0.        , 0.        , 0.        , 0.        , 0.        ,\n",
       "        0.        , 0.        , 0.1372549 , 0.94509804, 0.88235294,\n",
       "        0.62745098, 0.42352941, 0.00392157, 0.        , 0.        ,\n",
       "        0.        , 0.        , 0.        , 0.        , 0.        ,\n",
       "        0.        , 0.        , 0.        ],\n",
       "       [0.        , 0.        , 0.        , 0.        , 0.        ,\n",
       "        0.        , 0.        , 0.        , 0.        , 0.        ,\n",
       "        0.        , 0.        , 0.        , 0.31764706, 0.94117647,\n",
       "        0.99215686, 0.99215686, 0.46666667, 0.09803922, 0.        ,\n",
       "        0.        , 0.        , 0.        , 0.        , 0.        ,\n",
       "        0.        , 0.        , 0.        ],\n",
       "       [0.        , 0.        , 0.        , 0.        , 0.        ,\n",
       "        0.        , 0.        , 0.        , 0.        , 0.        ,\n",
       "        0.        , 0.        , 0.        , 0.        , 0.17647059,\n",
       "        0.72941176, 0.99215686, 0.99215686, 0.58823529, 0.10588235,\n",
       "        0.        , 0.        , 0.        , 0.        , 0.        ,\n",
       "        0.        , 0.        , 0.        ],\n",
       "       [0.        , 0.        , 0.        , 0.        , 0.        ,\n",
       "        0.        , 0.        , 0.        , 0.        , 0.        ,\n",
       "        0.        , 0.        , 0.        , 0.        , 0.        ,\n",
       "        0.0627451 , 0.36470588, 0.98823529, 0.99215686, 0.73333333,\n",
       "        0.        , 0.        , 0.        , 0.        , 0.        ,\n",
       "        0.        , 0.        , 0.        ],\n",
       "       [0.        , 0.        , 0.        , 0.        , 0.        ,\n",
       "        0.        , 0.        , 0.        , 0.        , 0.        ,\n",
       "        0.        , 0.        , 0.        , 0.        , 0.        ,\n",
       "        0.        , 0.        , 0.97647059, 0.99215686, 0.97647059,\n",
       "        0.25098039, 0.        , 0.        , 0.        , 0.        ,\n",
       "        0.        , 0.        , 0.        ],\n",
       "       [0.        , 0.        , 0.        , 0.        , 0.        ,\n",
       "        0.        , 0.        , 0.        , 0.        , 0.        ,\n",
       "        0.        , 0.        , 0.        , 0.        , 0.18039216,\n",
       "        0.50980392, 0.71764706, 0.99215686, 0.99215686, 0.81176471,\n",
       "        0.00784314, 0.        , 0.        , 0.        , 0.        ,\n",
       "        0.        , 0.        , 0.        ],\n",
       "       [0.        , 0.        , 0.        , 0.        , 0.        ,\n",
       "        0.        , 0.        , 0.        , 0.        , 0.        ,\n",
       "        0.        , 0.        , 0.15294118, 0.58039216, 0.89803922,\n",
       "        0.99215686, 0.99215686, 0.99215686, 0.98039216, 0.71372549,\n",
       "        0.        , 0.        , 0.        , 0.        , 0.        ,\n",
       "        0.        , 0.        , 0.        ],\n",
       "       [0.        , 0.        , 0.        , 0.        , 0.        ,\n",
       "        0.        , 0.        , 0.        , 0.        , 0.        ,\n",
       "        0.09411765, 0.44705882, 0.86666667, 0.99215686, 0.99215686,\n",
       "        0.99215686, 0.99215686, 0.78823529, 0.30588235, 0.        ,\n",
       "        0.        , 0.        , 0.        , 0.        , 0.        ,\n",
       "        0.        , 0.        , 0.        ],\n",
       "       [0.        , 0.        , 0.        , 0.        , 0.        ,\n",
       "        0.        , 0.        , 0.        , 0.09019608, 0.25882353,\n",
       "        0.83529412, 0.99215686, 0.99215686, 0.99215686, 0.99215686,\n",
       "        0.77647059, 0.31764706, 0.00784314, 0.        , 0.        ,\n",
       "        0.        , 0.        , 0.        , 0.        , 0.        ,\n",
       "        0.        , 0.        , 0.        ],\n",
       "       [0.        , 0.        , 0.        , 0.        , 0.        ,\n",
       "        0.        , 0.07058824, 0.67058824, 0.85882353, 0.99215686,\n",
       "        0.99215686, 0.99215686, 0.99215686, 0.76470588, 0.31372549,\n",
       "        0.03529412, 0.        , 0.        , 0.        , 0.        ,\n",
       "        0.        , 0.        , 0.        , 0.        , 0.        ,\n",
       "        0.        , 0.        , 0.        ],\n",
       "       [0.        , 0.        , 0.        , 0.        , 0.21568627,\n",
       "        0.6745098 , 0.88627451, 0.99215686, 0.99215686, 0.99215686,\n",
       "        0.99215686, 0.95686275, 0.52156863, 0.04313725, 0.        ,\n",
       "        0.        , 0.        , 0.        , 0.        , 0.        ,\n",
       "        0.        , 0.        , 0.        , 0.        , 0.        ,\n",
       "        0.        , 0.        , 0.        ],\n",
       "       [0.        , 0.        , 0.        , 0.        , 0.53333333,\n",
       "        0.99215686, 0.99215686, 0.99215686, 0.83137255, 0.52941176,\n",
       "        0.51764706, 0.0627451 , 0.        , 0.        , 0.        ,\n",
       "        0.        , 0.        , 0.        , 0.        , 0.        ,\n",
       "        0.        , 0.        , 0.        , 0.        , 0.        ,\n",
       "        0.        , 0.        , 0.        ],\n",
       "       [0.        , 0.        , 0.        , 0.        , 0.        ,\n",
       "        0.        , 0.        , 0.        , 0.        , 0.        ,\n",
       "        0.        , 0.        , 0.        , 0.        , 0.        ,\n",
       "        0.        , 0.        , 0.        , 0.        , 0.        ,\n",
       "        0.        , 0.        , 0.        , 0.        , 0.        ,\n",
       "        0.        , 0.        , 0.        ],\n",
       "       [0.        , 0.        , 0.        , 0.        , 0.        ,\n",
       "        0.        , 0.        , 0.        , 0.        , 0.        ,\n",
       "        0.        , 0.        , 0.        , 0.        , 0.        ,\n",
       "        0.        , 0.        , 0.        , 0.        , 0.        ,\n",
       "        0.        , 0.        , 0.        , 0.        , 0.        ,\n",
       "        0.        , 0.        , 0.        ],\n",
       "       [0.        , 0.        , 0.        , 0.        , 0.        ,\n",
       "        0.        , 0.        , 0.        , 0.        , 0.        ,\n",
       "        0.        , 0.        , 0.        , 0.        , 0.        ,\n",
       "        0.        , 0.        , 0.        , 0.        , 0.        ,\n",
       "        0.        , 0.        , 0.        , 0.        , 0.        ,\n",
       "        0.        , 0.        , 0.        ]])"
      ]
     },
     "execution_count": 10,
     "metadata": {},
     "output_type": "execute_result"
    }
   ],
   "source": [
    "# After scaling\n",
    "train_images[0]"
   ]
  },
  {
   "cell_type": "code",
   "execution_count": 11,
   "metadata": {},
   "outputs": [],
   "source": [
    "# Split training data to training and validation sets.\n",
    "x_train = train_images[0:50000]\n",
    "x_val = train_images[50000:]\n",
    "y_train = train_labels[0:50000]\n",
    "y_val = train_labels[50000:]"
   ]
  },
  {
   "cell_type": "code",
   "execution_count": 12,
   "metadata": {},
   "outputs": [
    {
     "name": "stdout",
     "output_type": "stream",
     "text": [
      "X_train: (50000, 784)\n",
      "X_val: (10000, 784)\n",
      "test_images: (10000, 784)\n"
     ]
    }
   ],
   "source": [
    "# Reshape data from 28 * 28 array to a single array\n",
    "new_dimension = np.prod(train_images.shape[1:]) #np.prod() returns the product of array elements over a given axis.\n",
    "\n",
    "x_train = x_train.reshape(x_train.shape[0], new_dimension)\n",
    "x_val = x_val.reshape(x_val.shape[0], new_dimension)\n",
    "\n",
    "test_images = test_images.reshape(test_images.shape[0], new_dimension)\n",
    "\n",
    "print('X_train: {}'.format(x_train.shape))\n",
    "print('X_val: {}'.format(x_val.shape))\n",
    "print('test_images: {}'.format(test_images.shape))"
   ]
  },
  {
   "cell_type": "code",
   "execution_count": 13,
   "metadata": {},
   "outputs": [],
   "source": [
    "# Encode labels to categorical variables\n",
    "from tensorflow.keras.utils import to_categorical\n",
    "no_labels = 10\n",
    "y_train = to_categorical(y_train, no_labels)\n",
    "y_val = to_categorical(y_val, no_labels)\n",
    "y_test = to_categorical(test_labels, no_labels)"
   ]
  },
  {
   "cell_type": "code",
   "execution_count": 14,
   "metadata": {},
   "outputs": [
    {
     "name": "stdout",
     "output_type": "stream",
     "text": [
      "WARNING:tensorflow:From C:\\Users\\JK\\anaconda3\\lib\\site-packages\\tensorflow\\python\\compat\\v2_compat.py:96: disable_resource_variables (from tensorflow.python.ops.variable_scope) is deprecated and will be removed in a future version.\n",
      "Instructions for updating:\n",
      "non-resource variables are not supported in the long term\n"
     ]
    }
   ],
   "source": [
    "# placeholders are not enabled in tf 2\n",
    "import tensorflow.compat.v1 as tf\n",
    "tf.disable_v2_behavior() "
   ]
  },
  {
   "cell_type": "code",
   "execution_count": 15,
   "metadata": {},
   "outputs": [],
   "source": [
    "# inputs \n",
    "X = tf.placeholder(tf.float32, [None, new_dimension])\n",
    "Y = tf.placeholder(tf.float32, [None, no_labels])\n",
    "\n",
    "# create model architecture\n",
    "def multilayer_perceptron(x, no_classes, first_layer_neurons= 256, second_layer_neurons= 128):\n",
    "   \n",
    "    # first layer\n",
    "    first_weight = tf.Variable(tf.random_uniform([new_dimension, first_layer_neurons]))\n",
    "    first_bias = tf.Variable(tf.zeros([first_layer_neurons]))\n",
    "    first_layer_output = tf.nn.relu(tf.add(tf.matmul(x, first_weight), first_bias))\n",
    "    \n",
    "    # Second layer\n",
    "    second_weight = tf.Variable(tf.random_uniform([first_layer_neurons, second_layer_neurons]))\n",
    "    second_bias = tf.Variable(tf.zeros([second_layer_neurons]))\n",
    "    second_layer_output = tf.nn.relu(tf.add(tf.matmul(first_layer_output, second_weight), second_bias))\n",
    "    \n",
    "    # Output layer\n",
    "    final_weight = tf.Variable(tf.random_uniform([second_layer_neurons, no_classes]))\n",
    "    final_bias = tf.Variable(tf.zeros([no_classes]))\n",
    "    logits = tf.add(tf.matmul(second_layer_output, final_weight), final_bias)\n",
    "    \n",
    "    return logits"
   ]
  },
  {
   "cell_type": "code",
   "execution_count": 16,
   "metadata": {},
   "outputs": [
    {
     "name": "stdout",
     "output_type": "stream",
     "text": [
      "WARNING:tensorflow:From C:\\Users\\JK\\anaconda3\\lib\\site-packages\\tensorflow\\python\\util\\dispatch.py:201: softmax_cross_entropy_with_logits (from tensorflow.python.ops.nn_ops) is deprecated and will be removed in a future version.\n",
      "Instructions for updating:\n",
      "\n",
      "Future major versions of TensorFlow will allow gradients to flow\n",
      "into the labels input on backprop by default.\n",
      "\n",
      "See `tf.nn.softmax_cross_entropy_with_logits_v2`.\n",
      "\n"
     ]
    }
   ],
   "source": [
    "logits = multilayer_perceptron(X, no_labels)\n",
    "learn_rate = 0.01\n",
    "# Define the loss and optimiser for the network\n",
    "loss_op = tf.reduce_mean(tf.nn.softmax_cross_entropy_with_logits(logits= logits,\n",
    "                                                                labels= Y))\n",
    "optimiser = tf.train.AdamOptimizer(learning_rate= learn_rate)\n",
    "train_op = optimiser.minimize(loss_op)\n",
    "\n",
    "# Initialise the variables \n",
    "init = tf.global_variables_initializer()\n",
    "\n",
    "epochs = 20\n",
    "batch_size = 1000\n",
    "iteration = len(x_train) // batch_size"
   ]
  },
  {
   "cell_type": "code",
   "execution_count": 17,
   "metadata": {},
   "outputs": [
    {
     "name": "stdout",
     "output_type": "stream",
     "text": [
      "Epoch========0\n",
      "Epoch========1\n",
      "Epoch========2\n",
      "Epoch========3\n",
      "Epoch========4\n",
      "Epoch========5\n",
      "Epoch========6\n",
      "Epoch========7\n",
      "Epoch========8\n",
      "Epoch========9\n",
      "Epoch========10\n",
      "Epoch========11\n",
      "Epoch========12\n",
      "Epoch========13\n",
      "Epoch========14\n",
      "Epoch========15\n",
      "Epoch========16\n",
      "Epoch========17\n",
      "Epoch========18\n",
      "Epoch========19\n",
      "Accuracy: 0.8392000198364258\n"
     ]
    }
   ],
   "source": [
    "# Trian model\n",
    "with tf.Session() as session:\n",
    "  session.run(init)\n",
    "  for epoch in range(epochs):\n",
    "    average_cost = 0\n",
    "    start, end = 0, batch_size\n",
    "\n",
    "    for i in range(iteration):\n",
    "      batch_x, batch_y = x_train[start: end], y_train[start: end]\n",
    "      _, loss = session.run([train_op, loss_op], feed_dict={X: batch_x, Y: batch_y})\n",
    "      start += batch_size\n",
    "      end += batch_size \n",
    "      #average loss\n",
    "      average_cost += loss/iteration\n",
    "    print(\"Epoch========{}\".format(epoch))\n",
    "    \n",
    "  #evaluate model\n",
    "  prediction = tf.nn.softmax(logits)\n",
    "  ground_truth = tf.equal(tf.argmax(prediction, 1), tf.argmax(Y, 1))\n",
    "  accuracy = tf.reduce_mean(tf.cast(ground_truth, \"float\"))\n",
    "  print(\"Accuracy: {}\".format(accuracy.eval({X: test_images, Y: y_test})))"
   ]
  },
  {
   "cell_type": "markdown",
   "metadata": {},
   "source": [
    "# Optimisation for Training Deep Neural Networks"
   ]
  },
  {
   "cell_type": "code",
   "execution_count": 18,
   "metadata": {},
   "outputs": [],
   "source": [
    "from tensorflow.keras.layers import Dense\n",
    "from tensorflow.keras.models import Sequential"
   ]
  },
  {
   "cell_type": "code",
   "execution_count": 23,
   "metadata": {},
   "outputs": [
    {
     "name": "stdout",
     "output_type": "stream",
     "text": [
      "Train on 50000 samples, validate on 10000 samples\n",
      "Epoch 1/20\n",
      "49000/50000 [============================>.] - ETA: 0s - loss: 0.6834 - acc: 0.8174"
     ]
    },
    {
     "name": "stderr",
     "output_type": "stream",
     "text": [
      "C:\\Users\\JK\\anaconda3\\lib\\site-packages\\tensorflow\\python\\keras\\engine\\training.py:2323: UserWarning: `Model.state_updates` will be removed in a future version. This property should not be used in TensorFlow 2.0, as `updates` are applied automatically.\n",
      "  warnings.warn('`Model.state_updates` will be removed in a future version. '\n"
     ]
    },
    {
     "name": "stdout",
     "output_type": "stream",
     "text": [
      "50000/50000 [==============================] - 2s 34us/sample - loss: 0.6760 - acc: 0.8191 - val_loss: 0.2600 - val_acc: 0.9260\n",
      "Epoch 2/20\n",
      "50000/50000 [==============================] - 2s 34us/sample - loss: 0.2365 - acc: 0.9331 - val_loss: 0.1915 - val_acc: 0.9474\n",
      "Epoch 3/20\n",
      "50000/50000 [==============================] - 2s 33us/sample - loss: 0.1766 - acc: 0.9491 - val_loss: 0.1512 - val_acc: 0.9580\n",
      "Epoch 4/20\n",
      "50000/50000 [==============================] - 2s 31us/sample - loss: 0.1385 - acc: 0.9611 - val_loss: 0.1348 - val_acc: 0.9617\n",
      "Epoch 5/20\n",
      "50000/50000 [==============================] - 1s 30us/sample - loss: 0.1130 - acc: 0.9683 - val_loss: 0.1186 - val_acc: 0.9657\n",
      "Epoch 6/20\n",
      "50000/50000 [==============================] - 2s 35us/sample - loss: 0.0938 - acc: 0.9730 - val_loss: 0.1066 - val_acc: 0.9686\n",
      "Epoch 7/20\n",
      "50000/50000 [==============================] - 1s 30us/sample - loss: 0.0799 - acc: 0.9774 - val_loss: 0.1003 - val_acc: 0.9704\n",
      "Epoch 8/20\n",
      "50000/50000 [==============================] - 2s 31us/sample - loss: 0.0686 - acc: 0.9803 - val_loss: 0.0976 - val_acc: 0.9704\n",
      "Epoch 9/20\n",
      "50000/50000 [==============================] - 2s 31us/sample - loss: 0.0575 - acc: 0.9839 - val_loss: 0.0891 - val_acc: 0.9733\n",
      "Epoch 10/20\n",
      "50000/50000 [==============================] - 2s 33us/sample - loss: 0.0495 - acc: 0.9863 - val_loss: 0.0867 - val_acc: 0.9738\n",
      "Epoch 11/20\n",
      "50000/50000 [==============================] - 2s 34us/sample - loss: 0.0417 - acc: 0.9891 - val_loss: 0.0839 - val_acc: 0.9744\n",
      "Epoch 12/20\n",
      "50000/50000 [==============================] - 2s 30us/sample - loss: 0.0360 - acc: 0.9908 - val_loss: 0.0795 - val_acc: 0.9763\n",
      "Epoch 13/20\n",
      "50000/50000 [==============================] - 2s 35us/sample - loss: 0.0314 - acc: 0.9920 - val_loss: 0.0775 - val_acc: 0.9764\n",
      "Epoch 14/20\n",
      "50000/50000 [==============================] - 1s 29us/sample - loss: 0.0270 - acc: 0.9938 - val_loss: 0.0820 - val_acc: 0.9763\n",
      "Epoch 15/20\n",
      "50000/50000 [==============================] - 1s 30us/sample - loss: 0.0243 - acc: 0.9943 - val_loss: 0.0793 - val_acc: 0.9757\n",
      "Epoch 16/20\n",
      "50000/50000 [==============================] - 2s 36us/sample - loss: 0.0201 - acc: 0.9959 - val_loss: 0.0757 - val_acc: 0.9769\n",
      "Epoch 17/20\n",
      "50000/50000 [==============================] - 2s 32us/sample - loss: 0.0172 - acc: 0.9967 - val_loss: 0.0766 - val_acc: 0.9769\n",
      "Epoch 18/20\n",
      "50000/50000 [==============================] - 1s 29us/sample - loss: 0.0152 - acc: 0.9974 - val_loss: 0.0782 - val_acc: 0.9772\n",
      "Epoch 19/20\n",
      "50000/50000 [==============================] - 2s 33us/sample - loss: 0.0123 - acc: 0.9981 - val_loss: 0.0799 - val_acc: 0.9770\n",
      "Epoch 20/20\n",
      "50000/50000 [==============================] - 1s 29us/sample - loss: 0.0105 - acc: 0.9987 - val_loss: 0.0769 - val_acc: 0.9775\n",
      "Test loss: [0.07211068673555855, 0.9783]\n",
      "Test accuracy: [0.07211068673555855, 0.9783]\n"
     ]
    }
   ],
   "source": [
    "# Building a Sequential Feed Forward Network in keras\n",
    "model = Sequential()\n",
    "model.add(Dense(256, activation= 'relu', input_shape=(new_dimension, )))\n",
    "model.add(Dense(128, activation= 'relu'))\n",
    "model.add(Dense(no_labels, activation= 'softmax'))\n",
    "\n",
    "model.compile(optimizer='adam', loss= tf.keras.losses.categorical_crossentropy,\n",
    "             metrics= ['accuracy'])\n",
    "history = model.fit(x_train, y_train, validation_data= (x_val, y_val), epochs= 20, batch_size= 1000)\n",
    "\n",
    "test_loss = test_accuracy = model.evaluate(test_images, y_test)\n",
    "\n",
    "print('Test loss: {}'.format(test_loss))\n",
    "print('Test accuracy: {}'.format(test_accuracy))"
   ]
  },
  {
   "cell_type": "code",
   "execution_count": 24,
   "metadata": {},
   "outputs": [
    {
     "data": {
      "text/plain": [
       "Text(0.5, 1.0, 'Loss Curve - before regularisation')"
      ]
     },
     "execution_count": 24,
     "metadata": {},
     "output_type": "execute_result"
    },
    {
     "data": {
      "image/png": "[encoded data removed]",
      "text/plain": [
       "<Figure size 432x288 with 1 Axes>"
      ]
     },
     "metadata": {
      "needs_background": "light"
     },
     "output_type": "display_data"
    }
   ],
   "source": [
    "# Check for Overfitting\n",
    "\n",
    "plt.figure()\n",
    "plt.plot(history.history['loss'], 'blue')\n",
    "plt.plot(history.history['val_loss'], 'red')\n",
    "plt.legend(['Training loss', 'Validation Loss'])\n",
    "plt.xlabel('Epochs')\n",
    "plt.ylabel('Loss')\n",
    "plt.title('Loss Curve - before regularisation')"
   ]
  },
  {
   "cell_type": "markdown",
   "metadata": {},
   "source": [
    "#### Although the validation and training loss seem great, we can see that the validation loss increases. This identifies overfitting in our network. How do we proceed? ->**Introduce regularisation to the model.**"
   ]
  },
  {
   "cell_type": "code",
   "execution_count": 25,
   "metadata": {},
   "outputs": [
    {
     "name": "stdout",
     "output_type": "stream",
     "text": [
      "Train on 50000 samples, validate on 10000 samples\n",
      "Epoch 1/20\n",
      "49000/50000 [============================>.] - ETA: 0s - loss: 0.9587 - acc: 0.6949"
     ]
    },
    {
     "name": "stderr",
     "output_type": "stream",
     "text": [
      "C:\\Users\\JK\\anaconda3\\lib\\site-packages\\tensorflow\\python\\keras\\engine\\training.py:2323: UserWarning: `Model.state_updates` will be removed in a future version. This property should not be used in TensorFlow 2.0, as `updates` are applied automatically.\n",
      "  warnings.warn('`Model.state_updates` will be removed in a future version. '\n"
     ]
    },
    {
     "name": "stdout",
     "output_type": "stream",
     "text": [
      "50000/50000 [==============================] - 3s 56us/sample - loss: 0.9488 - acc: 0.6983 - val_loss: 0.2917 - val_acc: 0.9183\n",
      "Epoch 2/20\n",
      "50000/50000 [==============================] - 2s 46us/sample - loss: 0.3788 - acc: 0.8878 - val_loss: 0.2049 - val_acc: 0.9422\n",
      "Epoch 3/20\n",
      "50000/50000 [==============================] - 2s 47us/sample - loss: 0.2837 - acc: 0.9174 - val_loss: 0.1629 - val_acc: 0.9541\n",
      "Epoch 4/20\n",
      "50000/50000 [==============================] - 2s 44us/sample - loss: 0.2317 - acc: 0.9325 - val_loss: 0.1392 - val_acc: 0.9612\n",
      "Epoch 5/20\n",
      "50000/50000 [==============================] - 2s 41us/sample - loss: 0.1998 - acc: 0.9417 - val_loss: 0.1273 - val_acc: 0.9629\n",
      "Epoch 6/20\n",
      "50000/50000 [==============================] - 3s 51us/sample - loss: 0.1749 - acc: 0.9488 - val_loss: 0.1127 - val_acc: 0.9665\n",
      "Epoch 7/20\n",
      "50000/50000 [==============================] - 3s 63us/sample - loss: 0.1603 - acc: 0.9529 - val_loss: 0.1043 - val_acc: 0.9695\n",
      "Epoch 8/20\n",
      "50000/50000 [==============================] - 3s 63us/sample - loss: 0.1432 - acc: 0.9584 - val_loss: 0.0978 - val_acc: 0.9716\n",
      "Epoch 9/20\n",
      "50000/50000 [==============================] - 3s 61us/sample - loss: 0.1341 - acc: 0.9609 - val_loss: 0.0948 - val_acc: 0.9731\n",
      "Epoch 10/20\n",
      "50000/50000 [==============================] - 3s 53us/sample - loss: 0.1218 - acc: 0.9644 - val_loss: 0.0890 - val_acc: 0.9736\n",
      "Epoch 11/20\n",
      "50000/50000 [==============================] - 2s 45us/sample - loss: 0.1151 - acc: 0.9650 - val_loss: 0.0879 - val_acc: 0.9750\n",
      "Epoch 12/20\n",
      "50000/50000 [==============================] - 3s 57us/sample - loss: 0.1039 - acc: 0.9697 - val_loss: 0.0832 - val_acc: 0.9762\n",
      "Epoch 13/20\n",
      "50000/50000 [==============================] - 3s 53us/sample - loss: 0.0966 - acc: 0.9710 - val_loss: 0.0826 - val_acc: 0.9760\n",
      "Epoch 14/20\n",
      "50000/50000 [==============================] - 3s 56us/sample - loss: 0.0906 - acc: 0.9725 - val_loss: 0.0793 - val_acc: 0.9777\n",
      "Epoch 15/20\n",
      "50000/50000 [==============================] - 3s 58us/sample - loss: 0.0886 - acc: 0.9726 - val_loss: 0.0782 - val_acc: 0.9781\n",
      "Epoch 16/20\n",
      "50000/50000 [==============================] - 3s 65us/sample - loss: 0.0813 - acc: 0.9759 - val_loss: 0.0776 - val_acc: 0.9783\n",
      "Epoch 17/20\n",
      "50000/50000 [==============================] - 2s 40us/sample - loss: 0.0773 - acc: 0.9758 - val_loss: 0.0754 - val_acc: 0.9783\n",
      "Epoch 18/20\n",
      "50000/50000 [==============================] - 2s 37us/sample - loss: 0.0738 - acc: 0.9774 - val_loss: 0.0733 - val_acc: 0.9793\n",
      "Epoch 19/20\n",
      "50000/50000 [==============================] - 2s 38us/sample - loss: 0.0712 - acc: 0.9785 - val_loss: 0.0742 - val_acc: 0.9794\n",
      "Epoch 20/20\n",
      "50000/50000 [==============================] - 2s 43us/sample - loss: 0.0680 - acc: 0.9796 - val_loss: 0.0712 - val_acc: 0.9793\n",
      "Test loss: 0.07035580780640012\n",
      "Test accuracy: 0.9785000085830688\n"
     ]
    }
   ],
   "source": [
    "from tensorflow.keras.layers import Dropout\n",
    "reg_model = Sequential()\n",
    "\n",
    "reg_model.add(Dense(256, activation= 'relu', input_shape= (new_dimension, )))\n",
    "reg_model.add(Dropout(0.4))\n",
    "reg_model.add(Dense(128, activation= 'relu'))\n",
    "reg_model.add(Dropout(0.4))\n",
    "reg_model.add(Dense(no_labels, activation= 'softmax'))\n",
    "\n",
    "reg_model.compile(optimizer= 'adam', loss= tf.keras.losses.categorical_crossentropy,\n",
    "                  metrics= ['accuracy'])\n",
    "\n",
    "reg_history = reg_model.fit(x_train, y_train, validation_data= (x_val, y_val), \n",
    "                            epochs= 20, batch_size= 1000)\n",
    "\n",
    "test_loss, test_accuracy = reg_model.evaluate(test_images, y_test)\n",
    "\n",
    "print('Test loss: {}'.format(test_loss))\n",
    "print('Test accuracy: {}'.format(test_accuracy))"
   ]
  },
  {
   "cell_type": "code",
   "execution_count": 28,
   "metadata": {},
   "outputs": [
    {
     "data": {
      "text/plain": [
       "Text(0.5, 1.0, 'Loss Curve - before regularisation')"
      ]
     },
     "execution_count": 28,
     "metadata": {},
     "output_type": "execute_result"
    },
    {
     "data": {
      "image/png": "[encoded data removed]",
      "text/plain": [
       "<Figure size 432x288 with 1 Axes>"
      ]
     },
     "metadata": {
      "needs_background": "light"
     },
     "output_type": "display_data"
    }
   ],
   "source": [
    "# Check for Overfitting\n",
    "\n",
    "plt.figure()\n",
    "plt.plot(reg_history.history['loss'], 'blue')\n",
    "plt.plot(reg_history.history['val_loss'], 'red')\n",
    "plt.legend(['Training loss', 'Validation Loss'])\n",
    "plt.xlabel('Epochs')\n",
    "plt.ylabel('Loss')\n",
    "plt.title('Loss Curve - before regularisation')"
   ]
  },
  {
   "cell_type": "markdown",
   "metadata": {},
   "source": [
    "# NICEEEEEEEEE :)"
   ]
  }
 ],
 "metadata": {
  "kernelspec": {
   "display_name": "Python 3",
   "language": "python",
   "name": "python3"
  },
  "language_info": {
   "codemirror_mode": {
    "name": "ipython",
    "version": 3
   },
   "file_extension": ".py",
   "mimetype": "text/x-python",
   "name": "python",
   "nbconvert_exporter": "python",
   "pygments_lexer": "ipython3",
   "version": "3.8.5"
  }
 },
 "nbformat": 4,
 "nbformat_minor": 4
}
